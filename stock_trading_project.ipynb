{
  "nbformat": 4,
  "nbformat_minor": 0,
  "metadata": {
    "colab": {
      "provenance": [],
      "mount_file_id": "17xuMTWhMNTceYTF3P_kmxKG2xu9XQFhj",
      "authorship_tag": "ABX9TyNgAluamKL4LU8wgDfpOxfl",
      "include_colab_link": true
    },
    "kernelspec": {
      "name": "python3",
      "display_name": "Python 3"
    },
    "language_info": {
      "name": "python"
    }
  },
  "cells": [
    {
      "cell_type": "markdown",
      "metadata": {
        "id": "view-in-github",
        "colab_type": "text"
      },
      "source": [
        "<a href=\"https://colab.research.google.com/github/saiiii17/Stock-Trading-Project-/blob/main/stock_trading_project.ipynb\" target=\"_parent\"><img src=\"https://colab.research.google.com/assets/colab-badge.svg\" alt=\"Open In Colab\"/></a>"
      ]
    },
    {
      "cell_type": "code",
      "execution_count": 1,
      "metadata": {
        "id": "bWkA9ETlSNcH"
      },
      "outputs": [],
      "source": [
        "import numpy as np\n",
        "import pandas as pd\n",
        "\n",
        "from tensorflow.keras.models import Model\n",
        "from tensorflow.keras.layers import Dense, Input\n",
        "from tensorflow.keras.optimizers import Adam\n",
        "\n",
        "from datetime import datetime\n",
        "import itertools\n",
        "import argparse\n",
        "import re\n",
        "import os\n",
        "import pickle\n",
        "\n",
        "from sklearn.preprocessing import StandardScaler\n"
      ]
    },
    {
      "cell_type": "code",
      "source": [
        "from google.colab import drive\n",
        "drive.mount('/content/drive')"
      ],
      "metadata": {
        "colab": {
          "base_uri": "https://localhost:8080/"
        },
        "id": "8OvTzRcbrm_D",
        "outputId": "c7821799-2263-4bd2-985e-e58d0160390c"
      },
      "execution_count": 14,
      "outputs": [
        {
          "output_type": "stream",
          "name": "stdout",
          "text": [
            "Drive already mounted at /content/drive; to attempt to forcibly remount, call drive.mount(\"/content/drive\", force_remount=True).\n"
          ]
        }
      ]
    },
    {
      "cell_type": "code",
      "source": [
        "def get_data():\n",
        "  # returns a T x 3 list of stock prices\n",
        "  # each row is a different stock\n",
        "  # 0 = AAPL\n",
        "  # 1 = MSI\n",
        "  # 2 = SBUX\n",
        "  df = pd.read_csv('aapl_msi_sbux.csv')\n",
        "  return df.values"
      ],
      "metadata": {
        "id": "_tUUfCY_SW_F"
      },
      "execution_count": 2,
      "outputs": []
    },
    {
      "cell_type": "code",
      "source": [
        "class ReplayBuffer:\n",
        "  def __init__(self, obs_dim, act_dim, size):\n",
        "    self.obs1_buf = np.zeros([size, obs_dim], dtype=np.float32)\n",
        "    self.obs2_buf = np.zeros([size, obs_dim], dtype=np.float32)\n",
        "    self.acts_buf = np.zeros(size, dtype=np.uint8)\n",
        "    self.rews_buf = np.zeros(size, dtype=np.float32)\n",
        "    self.done_buf = np.zeros(size, dtype=np.uint8)\n",
        "    self.ptr, self.size, self.max_size = 0, 0, size\n",
        "\n",
        "  def store(self, obs, act, rew, next_obs, done):\n",
        "    self.obs1_buf[self.ptr] = obs\n",
        "    self.obs2_buf[self.ptr] = next_obs\n",
        "    self.acts_buf[self.ptr] = act\n",
        "    self.rews_buf[self.ptr] = rew\n",
        "    self.done_buf[self.ptr] = done\n",
        "    self.ptr = (self.ptr+1) % self.max_size\n",
        "    self.size = min(self.size+1, self.max_size)\n",
        "\n",
        "  def sample_batch(self, batch_size=32):\n",
        "    idxs = np.random.randint(0, self.size, size=batch_size)\n",
        "    return dict(s=self.obs1_buf[idxs],\n",
        "                s2=self.obs2_buf[idxs],\n",
        "                a=self.acts_buf[idxs],\n",
        "                r=self.rews_buf[idxs],\n",
        "                d=self.done_buf[idxs])\n"
      ],
      "metadata": {
        "id": "P1RsVKO_bXDW"
      },
      "execution_count": 3,
      "outputs": []
    },
    {
      "cell_type": "code",
      "source": [
        "def get_scaler(env):\n",
        "  # return scikit-learn scaler object to scale the states\n",
        "  # Note: you could also populate the replay buffer here\n",
        "\n",
        "  states = []\n",
        "  for i in range(env.n_step):\n",
        "    action = np.random.choice(env.action_space)\n",
        "    state, reward, done, info = env.step(action)\n",
        "    states.append(state)\n",
        "    if done:\n",
        "      break\n",
        "\n",
        "  scaler = StandardScaler()\n",
        "  scaler.fit(states)\n",
        "  return scaler\n"
      ],
      "metadata": {
        "id": "RBIKQDJdG4vl"
      },
      "execution_count": 4,
      "outputs": []
    },
    {
      "cell_type": "code",
      "source": [
        "def maybe_make_dir(directory):\n",
        "  if not os.path.exists(directory):\n",
        "    os.makedirs(directory)\n"
      ],
      "metadata": {
        "id": "u7xXxNi-J3CI"
      },
      "execution_count": 5,
      "outputs": []
    },
    {
      "cell_type": "code",
      "source": [
        "def mlp(input_dim, n_action, n_hidden_layers=1, hidden_dim=32):\n",
        "  \"\"\" A multi-layer perceptron \"\"\"\n",
        "\n",
        "  # input layer\n",
        "  i = Input(shape=(input_dim,))\n",
        "  x = i\n",
        "\n",
        "  # hidden layers\n",
        "  for _ in range(n_hidden_layers):\n",
        "    x = Dense(hidden_dim, activation='relu')(x)\n",
        "\n",
        "  # final layer\n",
        "  x = Dense(n_action)(x)\n",
        "\n",
        "  # make the model\n",
        "  model = Model(i, x)\n",
        "\n",
        "  model.compile(loss='mse', optimizer='adam')\n",
        "  print((model.summary()))\n",
        "  return model"
      ],
      "metadata": {
        "id": "5Pp0dogYLgRk"
      },
      "execution_count": 6,
      "outputs": []
    },
    {
      "cell_type": "code",
      "source": [
        "class MultiStockEnv:\n",
        "  \"\"\"\n",
        "  A 3-stock trading environment.\n",
        "  State: vector of size 7 (n_stock * 2 + 1)\n",
        "    - # shares of stock 1 owned\n",
        "    - # shares of stock 2 owned\n",
        "    - # shares of stock 3 owned\n",
        "    - price of stock 1 (using daily close price)\n",
        "    - price of stock 2\n",
        "    - price of stock 3\n",
        "    - cash owned (can be used to purchase more stocks)\n",
        "  Action: categorical variable with 27 (3^3) possibilities\n",
        "    - for each stock, you can:\n",
        "    - 0 = sell\n",
        "    - 1 = hold\n",
        "    - 2 = buy\n",
        "  \"\"\"\n",
        "  def __init__(self, data, initial_investment=20000):\n",
        "    # data\n",
        "    self.stock_price_history = data\n",
        "    self.n_step, self.n_stock = self.stock_price_history.shape\n",
        "\n",
        "    # instance attributes\n",
        "    self.initial_investment = initial_investment\n",
        "    self.cur_step = None\n",
        "    self.stock_owned = None\n",
        "    self.stock_price = None\n",
        "    self.cash_in_hand = None\n",
        "\n",
        "    self.action_space = np.arange(3**self.n_stock)\n",
        "\n",
        "    # action permutations\n",
        "    # returns a nested list with elements like:\n",
        "    # [0,0,0]\n",
        "    # [0,0,1]\n",
        "    # [0,0,2]\n",
        "    # [0,1,0]\n",
        "    # [0,1,1]\n",
        "    # etc.\n",
        "    # 0 = sell\n",
        "    # 1 = hold\n",
        "    # 2 = buy\n",
        "    self.action_list = list(map(list, itertools.product([0, 1, 2], repeat=self.n_stock)))\n",
        "\n",
        "    # calculate size of state\n",
        "    self.state_dim = self.n_stock * 2 + 1\n",
        "\n",
        "    self.reset()\n"
      ],
      "metadata": {
        "id": "GsmiHAVGf_a_"
      },
      "execution_count": 7,
      "outputs": []
    },
    {
      "cell_type": "code",
      "source": [
        "def reset(self):\n",
        "    self.cur_step = 0\n",
        "    self.stock_owned = np.zeros(self.n_stock)\n",
        "    self.stock_price = self.stock_price_history[self.cur_step]\n",
        "    self.cash_in_hand = self.initial_investment\n",
        "    return self._get_obs()\n"
      ],
      "metadata": {
        "id": "nBbpkllFh1Y9"
      },
      "execution_count": 8,
      "outputs": []
    },
    {
      "cell_type": "code",
      "source": [
        " def step(self, action):\n",
        "    assert action in self.action_space\n",
        "\n",
        "    # get current value before performing the action\n",
        "    prev_val = self._get_val()\n",
        "\n",
        "    # update price, i.e. go to the next day\n",
        "    self.cur_step += 1\n",
        "    self.stock_price = self.stock_price_history[self.cur_step]\n",
        "\n",
        "    # perform the trade\n",
        "    self._trade(action)\n",
        "\n",
        "    # get the new value after taking the action\n",
        "    cur_val = self._get_val()\n",
        "\n",
        "    # reward is the increase in porfolio value\n",
        "    reward = cur_val - prev_val\n",
        "\n",
        "    # done if we have run out of data\n",
        "    done = self.cur_step == self.n_step - 1\n",
        "\n",
        "    # store the current value of the portfolio here\n",
        "    info = {'cur_val': cur_val}\n",
        "\n",
        "    # conform to the Gym API\n",
        "    return self._get_obs(), reward, done, info"
      ],
      "metadata": {
        "id": "MIcab3BiiEds"
      },
      "execution_count": 9,
      "outputs": []
    },
    {
      "cell_type": "code",
      "source": [
        "  def _get_obs(self):\n",
        "    obs = np.empty(self.state_dim)\n",
        "    obs[:self.n_stock] = self.stock_owned\n",
        "    obs[self.n_stock:2*self.n_stock] = self.stock_price\n",
        "    obs[-1] = self.cash_in_hand\n",
        "    return obs\n",
        ""
      ],
      "metadata": {
        "id": "YM4T79nzrS35"
      },
      "execution_count": 10,
      "outputs": []
    },
    {
      "cell_type": "code",
      "source": [
        "def _get_val(self):\n",
        "    return self.stock_owned.dot(self.stock_price) + self.cash_in_hand\n"
      ],
      "metadata": {
        "id": "RJNwo8i1suUX"
      },
      "execution_count": 11,
      "outputs": []
    },
    {
      "cell_type": "code",
      "source": [
        "def _trade(self, action):\n",
        "    # index the action we want to perform\n",
        "    # 0 = sell\n",
        "    # 1 = hold\n",
        "    # 2 = buy\n",
        "    # e.g. [2,1,0] means:\n",
        "    # buy first stock\n",
        "    # hold second stock\n",
        "    # sell third stock\n",
        "    action_vec = self.action_list[action]\n",
        "\n",
        "    # determine which stocks to buy or sell\n",
        "    sell_index = [] # stores index of stocks we want to sell\n",
        "    buy_index = [] # stores index of stocks we want to buy\n",
        "    for i, a in enumerate(action_vec):\n",
        "      if a == 0:\n",
        "        sell_index.append(i)\n",
        "      elif a == 2:\n",
        "        buy_index.append(i)\n",
        "\n",
        "    # sell any stocks we want to sell\n",
        "    # then buy any stocks we want to buy\n",
        "    if sell_index:\n",
        "      # NOTE: to simplify the problem, when we sell, we will sell ALL shares of that stock\n",
        "      for i in sell_index:\n",
        "        self.cash_in_hand += self.stock_price[i] * self.stock_owned[i]\n",
        "        self.stock_owned[i] = 0\n",
        "    if buy_index:\n",
        "      # NOTE: when buying, we will loop through each stock we want to buy,\n",
        "      #       and buy one share at a time until we run out of cash\n",
        "      can_buy = True\n",
        "      while can_buy:\n",
        "        for i in buy_index:\n",
        "          if self.cash_in_hand > self.stock_price[i]:\n",
        "            self.stock_owned[i] += 1 # buy one share\n",
        "            self.cash_in_hand -= self.stock_price[i]\n",
        "          else:\n",
        "            can_buy = False\n"
      ],
      "metadata": {
        "id": "OUlHdeWEvY_b"
      },
      "execution_count": 12,
      "outputs": []
    },
    {
      "cell_type": "code",
      "source": [
        "class DQNAgent(object):\n",
        "  def __init__(self, state_size, action_size):\n",
        "    self.state_size = state_size\n",
        "    self.action_size = action_size\n",
        "    self.memory = ReplayBuffer(state_size, action_size, size=500)\n",
        "    self.gamma = 0.95  # discount rate\n",
        "    self.epsilon = 1.0  # exploration rate\n",
        "    self.epsilon_min = 0.01\n",
        "    self.epsilon_decay = 0.995\n",
        "    self.model = mlp(state_size, action_size)\n",
        "\n",
        "\n",
        "  def update_replay_memory(self, state, action, reward, next_state, done):\n",
        "    self.memory.store(state, action, reward, next_state, done)\n",
        "\n",
        "\n",
        "  def act(self, state):\n",
        "    if np.random.rand() <= self.epsilon:\n",
        "      return np.random.choice(self.action_size)\n",
        "    act_values = self.model.predict(state)\n",
        "    return np.argmax(act_values[0])  # returns action\n",
        "\n",
        "\n",
        "  def replay(self, batch_size=32):\n",
        "    # first check if replay buffer contains enough data\n",
        "    if self.memory.size < batch_size:\n",
        "      return\n",
        "\n",
        "    # sample a batch of data from the replay memory\n",
        "    minibatch = self.memory.sample_batch(batch_size)\n",
        "    states = minibatch['s']\n",
        "    actions = minibatch['a']\n",
        "    rewards = minibatch['r']\n",
        "    next_states = minibatch['s2']\n",
        "    done = minibatch['d']\n",
        "\n",
        "    # Calculate the tentative target: Q(s',a)\n",
        "    target = rewards + (1 - done) * self.gamma * np.amax(self.model.predict(next_states), axis=1)\n",
        "\n",
        "    # With the Keras API, the target (usually) must have the same\n",
        "    # shape as the predictions.\n",
        "    # However, we only need to update the network for the actions\n",
        "    # which were actually taken.\n",
        "    # We can accomplish this by setting the target to be equal to\n",
        "    # the prediction for all values.\n",
        "    # Then, only change the targets for the actions taken.\n",
        "    # Q(s,a)\n",
        "    target_full = self.model.predict(states)\n",
        "    target_full[np.arange(batch_size), actions] = target\n",
        "\n",
        "    # Run one training step\n",
        "    self.model.train_on_batch(states, target_full)\n",
        "\n",
        "    if self.epsilon > self.epsilon_min:\n",
        "      self.epsilon *= self.epsilon_decay\n",
        "\n",
        "\n",
        "  def load(self, name):\n",
        "    self.model.load_weights(name)\n",
        "\n",
        "\n",
        "  def save(self, name):\n",
        "    self.model.save_weights(name)\n",
        "\n",
        "\n",
        "def play_one_episode(agent, env, is_train):\n",
        "  # note: after transforming states are already 1xD\n",
        "  state = env.reset()\n",
        "  state = scaler.transform([state])\n",
        "  done = False\n",
        "\n",
        "  while not done:\n",
        "    action = agent.act(state)\n",
        "    next_state, reward, done, info = env.step(action)\n",
        "    next_state = scaler.transform([next_state])\n",
        "    if is_train == 'train':\n",
        "      agent.update_replay_memory(state, action, reward, next_state, done)\n",
        "      agent.replay(batch_size)\n",
        "    state = next_state\n",
        "\n",
        "  return info['cur_val']\n",
        "\n",
        "\n",
        "\n",
        "if __name__ == '__main__':\n",
        "\n",
        "  # config\n",
        "  models_folder = 'rl_trader_models'\n",
        "  rewards_folder = 'rl_trader_rewards'\n",
        "  num_episodes = 2000\n",
        "  batch_size = 32\n",
        "  initial_investment = 20000\n",
        "\n",
        "\n",
        "  parser = argparse.ArgumentParser()\n",
        "  parser.add_argument('-m', '--mode', type=str, required=True,\n",
        "                      help='either \"train\" or \"test\"')\n",
        "  args = parser.parse_args()\n",
        "\n",
        "  maybe_make_dir(models_folder)\n",
        "  maybe_make_dir(rewards_folder)\n",
        "\n",
        "  data = get_data()\n",
        "  n_timesteps, n_stocks = data.shape\n",
        "\n",
        "  n_train = n_timesteps // 2\n",
        "\n",
        "  train_data = data[:n_train]\n",
        "  test_data = data[n_train:]\n",
        "\n",
        "  env = MultiStockEnv(train_data, initial_investment)\n",
        "  state_size = env.state_dim\n",
        "  action_size = len(env.action_space)\n",
        "  agent = DQNAgent(state_size, action_size)\n",
        "  scaler = get_scaler(env)\n",
        "\n",
        "  # store the final value of the portfolio (end of episode)\n",
        "  portfolio_value = []\n",
        "\n",
        "  if args.mode == 'test':\n",
        "    # then load the previous scaler\n",
        "    with open(f'{models_folder}/scaler.pkl', 'rb') as f:\n",
        "      scaler = pickle.load(f)\n",
        "\n",
        "    # remake the env with test data\n",
        "    env = MultiStockEnv(test_data, initial_investment)\n",
        "\n",
        "    # make sure epsilon is not 1!\n",
        "    # no need to run multiple episodes if epsilon = 0, it's deterministic\n",
        "    agent.epsilon = 0.01\n",
        "\n",
        "    # load trained weights\n",
        "    agent.load(f'{models_folder}/dqn.h5')\n",
        "\n",
        "  # play the game num_episodes times\n",
        "  for e in range(num_episodes):\n",
        "    t0 = datetime.now()\n",
        "    val = play_one_episode(agent, env, args.mode)\n",
        "    dt = datetime.now() - t0\n",
        "    print(f\"episode: {e + 1}/{num_episodes}, episode end value: {val:.2f}, duration: {dt}\")\n",
        "    portfolio_value.append(val) # append episode end portfolio value\n",
        "\n",
        "  # save the weights when we are done\n",
        "  if args.mode == 'train':\n",
        "    # save the DQN\n",
        "    agent.save(f'{models_folder}/dqn.h5')\n",
        "\n",
        "    # save the scaler\n",
        "    with open(f'{models_folder}/scaler.pkl', 'wb') as f:\n",
        "      pickle.dump(scaler, f)\n",
        "\n",
        "\n",
        "  # save portfolio value for each episode\n",
        "  np.save(f'{rewards_folder}/{args.mode}.npy', portfolio_value)"
      ],
      "metadata": {
        "id": "mUgLvQ8T0sox"
      },
      "execution_count": null,
      "outputs": []
    }
  ]
}